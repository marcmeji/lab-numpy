{
 "cells": [
  {
   "cell_type": "markdown",
   "metadata": {},
   "source": [
    "# Intrduction to NumPy\n",
    "\n",
    "\n",
    "#### 1. Import NumPy under the name np."
   ]
  },
  {
   "cell_type": "code",
   "execution_count": 4,
   "metadata": {},
   "outputs": [],
   "source": [
    "# your code here\n",
    "\n",
    "import numpy as np"
   ]
  },
  {
   "cell_type": "markdown",
   "metadata": {},
   "source": [
    "#### 2. Print your NumPy version."
   ]
  },
  {
   "cell_type": "code",
   "execution_count": 5,
   "metadata": {},
   "outputs": [
    {
     "name": "stdout",
     "output_type": "stream",
     "text": [
      "1.15.4\n"
     ]
    }
   ],
   "source": [
    "# your code here\n",
    "\n",
    "print(np.__version__)"
   ]
  },
  {
   "cell_type": "markdown",
   "metadata": {},
   "source": [
    "#### 3. Generate a 2x3x5 3-dimensional array with random values. Assign the array to variable *a*.\n",
    "**Challenge**: there are at least three easy ways that use numpy to generate random arrays. How many ways can you find?"
   ]
  },
  {
   "cell_type": "code",
   "execution_count": 6,
   "metadata": {},
   "outputs": [
    {
     "data": {
      "text/plain": [
       "array([[[0.36593606, 0.87592634, 0.2947919 , 0.75352181, 0.85461169],\n",
       "        [0.17958182, 0.14387182, 0.03535728, 0.49965521, 0.93296833],\n",
       "        [0.96391153, 0.22950036, 0.44187977, 0.33631159, 0.43462398]],\n",
       "\n",
       "       [[0.39480128, 0.84342454, 0.13040764, 0.80081862, 0.16268934],\n",
       "        [0.80041306, 0.36269604, 0.57180409, 0.809603  , 0.48549087],\n",
       "        [0.46409819, 0.73686399, 0.8420402 , 0.6792996 , 0.4174972 ]]])"
      ]
     },
     "execution_count": 6,
     "metadata": {},
     "output_type": "execute_result"
    }
   ],
   "source": [
    "# Method 1\n",
    "\n",
    "a =  np.random.random((2,3,5))\n",
    "a"
   ]
  },
  {
   "cell_type": "code",
   "execution_count": 34,
   "metadata": {},
   "outputs": [
    {
     "data": {
      "text/plain": [
       "array([[[0.39607086, 0.99387838, 0.26306168, 0.83340391, 0.98433903],\n",
       "        [0.75664862, 0.26754442, 0.8912175 , 0.13381037, 0.12443963],\n",
       "        [0.77714486, 0.5274317 , 0.5399196 , 0.28678001, 0.88005839]],\n",
       "\n",
       "       [[0.23461071, 0.72576392, 0.47966114, 0.43119749, 0.31337691],\n",
       "        [0.06180031, 0.3474269 , 0.76113073, 0.96833966, 0.88177422],\n",
       "        [0.6321673 , 0.83373144, 0.52027078, 0.37864049, 0.44471268]]])"
      ]
     },
     "execution_count": 34,
     "metadata": {},
     "output_type": "execute_result"
    }
   ],
   "source": [
    "# Method 2\n",
    "a2 = np.random.ranf((2,3,5))\n",
    "a2"
   ]
  },
  {
   "cell_type": "code",
   "execution_count": 36,
   "metadata": {},
   "outputs": [
    {
     "data": {
      "text/plain": [
       "array([[[0.6629681 , 0.88960798, 0.57861136, 0.8036964 , 0.9906551 ],\n",
       "        [0.94485187, 0.51964532, 0.46484904, 0.9695823 , 0.25053768],\n",
       "        [0.19544197, 0.36672757, 0.75963878, 0.90774545, 0.05282346]],\n",
       "\n",
       "       [[0.06274954, 0.52124727, 0.66970972, 0.89162508, 0.09699396],\n",
       "        [0.55401007, 0.72192136, 0.17234454, 0.47559994, 0.57116781],\n",
       "        [0.47539301, 0.23392399, 0.1961372 , 0.01258399, 0.6074544 ]]])"
      ]
     },
     "execution_count": 36,
     "metadata": {},
     "output_type": "execute_result"
    }
   ],
   "source": [
    "# Method 3\n",
    "a3 = np.random.random_sample((2,3,5))\n",
    "a3"
   ]
  },
  {
   "cell_type": "markdown",
   "metadata": {},
   "source": [
    "#### 4. Print *a*.\n"
   ]
  },
  {
   "cell_type": "code",
   "execution_count": 9,
   "metadata": {},
   "outputs": [
    {
     "name": "stdout",
     "output_type": "stream",
     "text": [
      "[[[0.36593606 0.87592634 0.2947919  0.75352181 0.85461169]\n",
      "  [0.17958182 0.14387182 0.03535728 0.49965521 0.93296833]\n",
      "  [0.96391153 0.22950036 0.44187977 0.33631159 0.43462398]]\n",
      "\n",
      " [[0.39480128 0.84342454 0.13040764 0.80081862 0.16268934]\n",
      "  [0.80041306 0.36269604 0.57180409 0.809603   0.48549087]\n",
      "  [0.46409819 0.73686399 0.8420402  0.6792996  0.4174972 ]]]\n"
     ]
    }
   ],
   "source": [
    "# your code here\n",
    "print(a)"
   ]
  },
  {
   "cell_type": "markdown",
   "metadata": {},
   "source": [
    "#### 5. Create a 5x2x3 3-dimensional array with all values equaling 1. Assign the array to variable *b*."
   ]
  },
  {
   "cell_type": "code",
   "execution_count": 16,
   "metadata": {},
   "outputs": [],
   "source": [
    "# your code here\n",
    "\n",
    "b = np.ones((5, 2, 3))"
   ]
  },
  {
   "cell_type": "markdown",
   "metadata": {},
   "source": [
    "#### 6. Print *b*.\n"
   ]
  },
  {
   "cell_type": "code",
   "execution_count": 17,
   "metadata": {},
   "outputs": [
    {
     "name": "stdout",
     "output_type": "stream",
     "text": [
      "[[[1. 1. 1.]\n",
      "  [1. 1. 1.]]\n",
      "\n",
      " [[1. 1. 1.]\n",
      "  [1. 1. 1.]]\n",
      "\n",
      " [[1. 1. 1.]\n",
      "  [1. 1. 1.]]\n",
      "\n",
      " [[1. 1. 1.]\n",
      "  [1. 1. 1.]]\n",
      "\n",
      " [[1. 1. 1.]\n",
      "  [1. 1. 1.]]]\n"
     ]
    }
   ],
   "source": [
    "# your code here\n",
    "\n",
    "print(b)"
   ]
  },
  {
   "cell_type": "markdown",
   "metadata": {},
   "source": [
    "#### 7. Do *a* and *b* have the same size? How do you prove that in Python code?"
   ]
  },
  {
   "cell_type": "code",
   "execution_count": 18,
   "metadata": {},
   "outputs": [
    {
     "data": {
      "text/plain": [
       "True"
      ]
     },
     "execution_count": 18,
     "metadata": {},
     "output_type": "execute_result"
    }
   ],
   "source": [
    "# your code here\n",
    "\n",
    "def size_comparison(arr1, arr2):\n",
    "    if np.size(a) == np.size(b):\n",
    "        return True\n",
    "    else:\n",
    "        return False\n",
    "    \n",
    "size_comparison(a,b)"
   ]
  },
  {
   "cell_type": "markdown",
   "metadata": {},
   "source": [
    "#### 8. Are you able to add *a* and *b*? Why or why not?\n"
   ]
  },
  {
   "cell_type": "code",
   "execution_count": 19,
   "metadata": {},
   "outputs": [
    {
     "ename": "ValueError",
     "evalue": "operands could not be broadcast together with shapes (2,3,5) (5,2,3) ",
     "output_type": "error",
     "traceback": [
      "\u001b[1;31m---------------------------------------------------------------------------\u001b[0m",
      "\u001b[1;31mValueError\u001b[0m                                Traceback (most recent call last)",
      "\u001b[1;32m<ipython-input-19-3e1b354da03f>\u001b[0m in \u001b[0;36m<module>\u001b[1;34m\u001b[0m\n\u001b[0;32m      1\u001b[0m \u001b[1;31m# your answer here\u001b[0m\u001b[1;33m\u001b[0m\u001b[1;33m\u001b[0m\u001b[1;33m\u001b[0m\u001b[0m\n\u001b[0;32m      2\u001b[0m \u001b[1;33m\u001b[0m\u001b[0m\n\u001b[1;32m----> 3\u001b[1;33m \u001b[0mnp\u001b[0m\u001b[1;33m.\u001b[0m\u001b[0madd\u001b[0m\u001b[1;33m(\u001b[0m\u001b[0ma\u001b[0m\u001b[1;33m,\u001b[0m\u001b[0mb\u001b[0m\u001b[1;33m)\u001b[0m\u001b[1;33m\u001b[0m\u001b[1;33m\u001b[0m\u001b[0m\n\u001b[0m\u001b[0;32m      4\u001b[0m \u001b[1;33m\u001b[0m\u001b[0m\n\u001b[0;32m      5\u001b[0m \u001b[1;31m#Can not be added, because they have same size but not same shape\u001b[0m\u001b[1;33m\u001b[0m\u001b[1;33m\u001b[0m\u001b[1;33m\u001b[0m\u001b[0m\n",
      "\u001b[1;31mValueError\u001b[0m: operands could not be broadcast together with shapes (2,3,5) (5,2,3) "
     ]
    }
   ],
   "source": [
    "# your answer here\n",
    "\n",
    "np.add(a,b)\n",
    "\n",
    "#Can not be added, because they have same size but not same shape"
   ]
  },
  {
   "cell_type": "markdown",
   "metadata": {},
   "source": [
    "#### 9. Transpose *b* so that it has the same structure of *a* (i.e. become a 2x3x5 array). Assign the transposed array to variable *c*."
   ]
  },
  {
   "cell_type": "code",
   "execution_count": 20,
   "metadata": {},
   "outputs": [
    {
     "data": {
      "text/plain": [
       "(2, 3, 5)"
      ]
     },
     "execution_count": 20,
     "metadata": {},
     "output_type": "execute_result"
    }
   ],
   "source": [
    "# your code here\n",
    "\n",
    "c = np.transpose(b,(1,2,0))\n",
    "np.shape(c)\n"
   ]
  },
  {
   "cell_type": "markdown",
   "metadata": {},
   "source": [
    "#### 10. Try to add *a* and *c*. Now it should work. Assign the sum to variable *d*. But why does it work now?"
   ]
  },
  {
   "cell_type": "code",
   "execution_count": 21,
   "metadata": {},
   "outputs": [
    {
     "data": {
      "text/plain": [
       "array([[[1.36593606, 1.87592634, 1.2947919 , 1.75352181, 1.85461169],\n",
       "        [1.17958182, 1.14387182, 1.03535728, 1.49965521, 1.93296833],\n",
       "        [1.96391153, 1.22950036, 1.44187977, 1.33631159, 1.43462398]],\n",
       "\n",
       "       [[1.39480128, 1.84342454, 1.13040764, 1.80081862, 1.16268934],\n",
       "        [1.80041306, 1.36269604, 1.57180409, 1.809603  , 1.48549087],\n",
       "        [1.46409819, 1.73686399, 1.8420402 , 1.6792996 , 1.4174972 ]]])"
      ]
     },
     "execution_count": 21,
     "metadata": {},
     "output_type": "execute_result"
    }
   ],
   "source": [
    "# your code/answer here\n",
    "\n",
    "d = np.add(a,c)\n",
    "d"
   ]
  },
  {
   "cell_type": "markdown",
   "metadata": {},
   "source": [
    "#### 11. Print *a* and *d*. Notice the difference and relation of the two array in terms of the values? Explain."
   ]
  },
  {
   "cell_type": "code",
   "execution_count": 22,
   "metadata": {},
   "outputs": [
    {
     "name": "stdout",
     "output_type": "stream",
     "text": [
      "[[[0.36593606 0.87592634 0.2947919  0.75352181 0.85461169]\n",
      "  [0.17958182 0.14387182 0.03535728 0.49965521 0.93296833]\n",
      "  [0.96391153 0.22950036 0.44187977 0.33631159 0.43462398]]\n",
      "\n",
      " [[0.39480128 0.84342454 0.13040764 0.80081862 0.16268934]\n",
      "  [0.80041306 0.36269604 0.57180409 0.809603   0.48549087]\n",
      "  [0.46409819 0.73686399 0.8420402  0.6792996  0.4174972 ]]]\n",
      "[[[1.36593606 1.87592634 1.2947919  1.75352181 1.85461169]\n",
      "  [1.17958182 1.14387182 1.03535728 1.49965521 1.93296833]\n",
      "  [1.96391153 1.22950036 1.44187977 1.33631159 1.43462398]]\n",
      "\n",
      " [[1.39480128 1.84342454 1.13040764 1.80081862 1.16268934]\n",
      "  [1.80041306 1.36269604 1.57180409 1.809603   1.48549087]\n",
      "  [1.46409819 1.73686399 1.8420402  1.6792996  1.4174972 ]]]\n"
     ]
    }
   ],
   "source": [
    "# your code/answer here\n",
    "print(a)\n",
    "print(d)\n",
    "\n",
    "#cada elemento en d es producto de sumar 1 a los elementos de a"
   ]
  },
  {
   "cell_type": "markdown",
   "metadata": {},
   "source": [
    "#### 12. Multiply *a* and *c*. Assign the result to *e*."
   ]
  },
  {
   "cell_type": "code",
   "execution_count": 23,
   "metadata": {},
   "outputs": [],
   "source": [
    "# your code here\n",
    "\n",
    "e = np.multiply(a,c)\n"
   ]
  },
  {
   "cell_type": "markdown",
   "metadata": {},
   "source": [
    "#### 13. Does *e* equal to *a*? Why or why not?\n"
   ]
  },
  {
   "cell_type": "code",
   "execution_count": 24,
   "metadata": {},
   "outputs": [
    {
     "data": {
      "text/plain": [
       "array([[[ True,  True,  True,  True,  True],\n",
       "        [ True,  True,  True,  True,  True],\n",
       "        [ True,  True,  True,  True,  True]],\n",
       "\n",
       "       [[ True,  True,  True,  True,  True],\n",
       "        [ True,  True,  True,  True,  True],\n",
       "        [ True,  True,  True,  True,  True]]])"
      ]
     },
     "execution_count": 24,
     "metadata": {},
     "output_type": "execute_result"
    }
   ],
   "source": [
    "# your code/answer here\n",
    "\n",
    "e == a\n",
    "\n",
    "#Son iguales porque multiplicamos por 1 cada valor de a"
   ]
  },
  {
   "cell_type": "markdown",
   "metadata": {},
   "source": [
    "#### 14. Identify the max, min, and mean values in *d*. Assign those values to variables *d_max*, *d_min* and *d_mean*."
   ]
  },
  {
   "cell_type": "code",
   "execution_count": 25,
   "metadata": {},
   "outputs": [
    {
     "name": "stdout",
     "output_type": "stream",
     "text": [
      "1.9639115270461416 1.035357277221375 1.5281465712686106\n"
     ]
    }
   ],
   "source": [
    "# your code here\n",
    "\n",
    "d_max = np.max(d)\n",
    "d_min = np.min(d)\n",
    "d_mean = np.mean(d)\n",
    "\n",
    "print(d_max, d_min, d_mean)"
   ]
  },
  {
   "cell_type": "markdown",
   "metadata": {},
   "source": [
    "#### 15. Now we want to label the values in *d*. First create an empty array *f* with the same shape (i.e. 2x3x5) as *d* using `np.empty`.\n"
   ]
  },
  {
   "cell_type": "code",
   "execution_count": 26,
   "metadata": {},
   "outputs": [],
   "source": [
    "# your code here\n",
    "\n",
    "f = np.empty([2,3,5])\n"
   ]
  },
  {
   "cell_type": "markdown",
   "metadata": {},
   "source": [
    "#### 16. Populate the values in *f*. \n",
    "\n",
    "For each value in *d*, if it's larger than *d_min* but smaller than *d_mean*, assign 25 to the corresponding value in *f*. If a value in *d* is larger than *d_mean* but smaller than *d_max*, assign 75 to the corresponding value in *f*. If a value equals to *d_mean*, assign 50 to the corresponding value in *f*. Assign 0 to the corresponding value(s) in *f* for *d_min* in *d*. Assign 100 to the corresponding value(s) in *f* for *d_max* in *d*. In the end, f should have only the following values: 0, 25, 50, 75, and 100.\n",
    "\n",
    "**Note**: you don't have to use Numpy in this question."
   ]
  },
  {
   "cell_type": "code",
   "execution_count": 27,
   "metadata": {},
   "outputs": [
    {
     "data": {
      "text/plain": [
       "array([[[ 25.,  75.,  25.,  75.,  75.],\n",
       "        [ 25.,  25.,   0.,  25.,  75.],\n",
       "        [100.,  25.,  25.,  25.,  25.]],\n",
       "\n",
       "       [[ 25.,  75.,  25.,  75.,  25.],\n",
       "        [ 75.,  25.,  75.,  75.,  25.],\n",
       "        [ 25.,  75.,  75.,  75.,  25.]]])"
      ]
     },
     "execution_count": 27,
     "metadata": {},
     "output_type": "execute_result"
    }
   ],
   "source": [
    "# your code here\n",
    "\n",
    "for z in range(np.shape(d)[2]):\n",
    "    for y in range(np.shape(d)[1]):\n",
    "        for x in range(np.shape(d)[0]):\n",
    "            if d[x,y,z] == d_min:\n",
    "                f[x,y,z] = 0\n",
    "            if d[x,y,z] == d_mean:\n",
    "                f[x,y,z] = 50\n",
    "            if d[x,y,z] == d_max:\n",
    "                f[x,y,z] = 100\n",
    "            if d[x,y,z] > d_min and d[x,y,z] < d_mean:\n",
    "                f[x,y,z] = 25\n",
    "            if d[x,y,z] > d_mean and d[x,y,z] < d_max:\n",
    "                f[x,y,z] = 75\n",
    "                \n",
    "f"
   ]
  },
  {
   "cell_type": "markdown",
   "metadata": {},
   "source": [
    "#### 17. Print *d* and *f*. Do you have your expected *f*?\n",
    "For instance, if your *d* is:\n",
    "```python\n",
    "[[[1.85836099, 1.67064465, 1.62576044, 1.40243961, 1.88454931],\n",
    "[1.75354326, 1.69403643, 1.36729252, 1.61415071, 1.12104981],\n",
    "[1.72201435, 1.1862918 , 1.87078449, 1.7726778 , 1.88180042]],\n",
    "[[1.44747908, 1.31673383, 1.02000951, 1.52218947, 1.97066381],\n",
    "[1.79129243, 1.74983003, 1.96028037, 1.85166831, 1.65450881],\n",
    "[1.18068344, 1.9587381 , 1.00656599, 1.93402165, 1.73514584]]]\n",
    "```\n",
    "Your *f* should be:\n",
    "```python\n",
    "[[[ 75.,  75.,  75.,  25.,  75.],\n",
    "[ 75.,  75.,  25.,  25.,  25.],\n",
    "[ 75.,  25.,  75.,  75.,  75.]],\n",
    "[[ 25.,  25.,  25.,  25., 100.],\n",
    "[ 75.,  75.,  75.,  75.,  75.],\n",
    "[ 25.,  75.,   0.,  75.,  75.]]]\n",
    "```"
   ]
  },
  {
   "cell_type": "code",
   "execution_count": 28,
   "metadata": {},
   "outputs": [
    {
     "name": "stdout",
     "output_type": "stream",
     "text": [
      "[[[1.36593606 1.87592634 1.2947919  1.75352181 1.85461169]\n",
      "  [1.17958182 1.14387182 1.03535728 1.49965521 1.93296833]\n",
      "  [1.96391153 1.22950036 1.44187977 1.33631159 1.43462398]]\n",
      "\n",
      " [[1.39480128 1.84342454 1.13040764 1.80081862 1.16268934]\n",
      "  [1.80041306 1.36269604 1.57180409 1.809603   1.48549087]\n",
      "  [1.46409819 1.73686399 1.8420402  1.6792996  1.4174972 ]]]\n",
      "[[[ 25.  75.  25.  75.  75.]\n",
      "  [ 25.  25.   0.  25.  75.]\n",
      "  [100.  25.  25.  25.  25.]]\n",
      "\n",
      " [[ 25.  75.  25.  75.  25.]\n",
      "  [ 75.  25.  75.  75.  25.]\n",
      "  [ 25.  75.  75.  75.  25.]]]\n"
     ]
    }
   ],
   "source": [
    "# your code here\n",
    "\n",
    "print(d)\n",
    "print(f)"
   ]
  },
  {
   "cell_type": "markdown",
   "metadata": {},
   "source": [
    "#### 18. Bonus question: instead of using numbers (i.e. 0, 25, 50, 75, and 100), use string values  (\"A\", \"B\", \"C\", \"D\", and \"E\") to label the array elements. For the example above, the expected result is:\n",
    "\n",
    "```python\n",
    "[[[ 'D',  'D',  'D',  'B',  'D'],\n",
    "[ 'D',  'D',  'B',  'B',  'B'],\n",
    "[ 'D',  'B',  'D',  'D',  'D']],\n",
    "[[ 'B',  'B',  'B',  'B',  'E'],\n",
    "[ 'D',  'D',  'D',  'D',  'D'],\n",
    "[ 'B',  'D',   'A',  'D', 'D']]]\n",
    "```\n",
    "**Note**: you don't have to use Numpy in this question."
   ]
  },
  {
   "cell_type": "code",
   "execution_count": 32,
   "metadata": {},
   "outputs": [
    {
     "data": {
      "text/plain": [
       "array([[['B', 'D', 'B', 'D', 'D'],\n",
       "        ['B', 'B', 'A', 'B', 'D'],\n",
       "        ['E', 'B', 'B', 'B', 'B']],\n",
       "\n",
       "       [['B', 'D', 'B', 'D', 'B'],\n",
       "        ['D', 'B', 'D', 'D', 'B'],\n",
       "        ['B', 'D', 'D', 'D', 'B']]], dtype='<U1')"
      ]
     },
     "execution_count": 32,
     "metadata": {},
     "output_type": "execute_result"
    }
   ],
   "source": [
    "# your code here\n",
    "\n",
    "g = np.empty([2,3,5], dtype=str)\n",
    "\n",
    "for z in range(np.shape(d)[2]):\n",
    "    for y in range(np.shape(d)[1]):\n",
    "        for x in range(np.shape(d)[0]):\n",
    "            if d[x,y,z] == d_min:\n",
    "                g[x,y,z] = 'A'\n",
    "            if d[x,y,z] == d_mean:\n",
    "                g[x,y,z] = 'C'\n",
    "            if d[x,y,z] == d_max:\n",
    "                g[x,y,z] = 'E'\n",
    "            if d[x,y,z] > d_min and d[x,y,z] < d_mean:\n",
    "                g[x,y,z] = 'B'\n",
    "            if d[x,y,z] > d_mean and d[x,y,z] < d_max:\n",
    "                g[x,y,z] = 'D'\n",
    "                \n",
    "g"
   ]
  },
  {
   "cell_type": "code",
   "execution_count": null,
   "metadata": {},
   "outputs": [],
   "source": []
  }
 ],
 "metadata": {
  "kernelspec": {
   "display_name": "Python 3",
   "language": "python",
   "name": "python3"
  },
  "language_info": {
   "codemirror_mode": {
    "name": "ipython",
    "version": 3
   },
   "file_extension": ".py",
   "mimetype": "text/x-python",
   "name": "python",
   "nbconvert_exporter": "python",
   "pygments_lexer": "ipython3",
   "version": "3.7.1"
  }
 },
 "nbformat": 4,
 "nbformat_minor": 2
}
